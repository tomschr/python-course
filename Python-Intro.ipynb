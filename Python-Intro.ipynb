{
 "cells": [
  {
   "cell_type": "markdown",
   "metadata": {
    "collapsed": true
   },
   "source": [
    "# Python Course: First Script\n",
    "\n",
    "Author: Thomas Schraitle\n",
    "\n",
    "\n",
    "## Things to learn\n",
    "\n",
    "1. The structure of a Python script\n",
    "1. Function definitions\n",
    "1. \"Doc strings\"\n",
    "1. The `print` function\n",
    "\n",
    "\n",
    "## Steps\n",
    "\n",
    "1. Open your editor.\n",
    "1. Add the following content\n",
    "1. Set the executable bit: `chmod +x hello.py`"
   ]
  },
  {
   "cell_type": "code",
   "execution_count": 4,
   "metadata": {
    "collapsed": false
   },
   "outputs": [
    {
     "name": "stdout",
     "output_type": "stream",
     "text": [
      "Hello Tux\n"
     ]
    }
   ],
   "source": [
    "#!/usr/bin/env python3\n",
    "\n",
    "\n",
    "def hello(name):\n",
    "    \"\"\"Create a nice welcome message\n",
    "    \n",
    "    :param name: some name to greet\n",
    "    :return: greeting string\n",
    "    :rtype: str\n",
    "    \"\"\"\n",
    "    return \"Hello {}\".format(name)\n",
    "\n",
    "\n",
    "if __name__ == \"__main__\":\n",
    "    print(hello(\"Tux\"))"
   ]
  },
  {
   "cell_type": "markdown",
   "metadata": {},
   "source": [
    "## Analysis\n",
    "\n",
    "Let's investigate the components of our first script:\n",
    "\n",
    "1. **The \"She-bang\" line** This is used to find the correct interpreter:\n",
    "\n",
    "  ```python\n",
    "#!/usr/bin/env python3\n",
    "```\n",
    "\n",
    "  We use `/usr/bin/env` here to be compatible with a Virtual Environment (see separate notebook).\n",
    "\n",
    "\n",
    "1. **Definition of a function** The function `hello` has an argument with the name `name`:\n",
    "\n",
    "  ```python\n",
    "def hello(name):\n",
    "```\n",
    "\n",
    "1. **A \"doc-string\"** This string describes the function. Everything that belongs to the function has to be indended by one or more spaces or tabs. Recommendation are four spaces:\n",
    "\n",
    "  ```python\n",
    "\"\"\"Create a nice welcome message\n",
    "    \n",
    "   :param name: some name to greet\n",
    "   :return: greeting string\n",
    "   :rtype: str\n",
    "\"\"\"\n",
    "```\n",
    "\n",
    "1. **Body of the function** Everything that belongs to this function. Again, indent it by spaces.\n",
    "   In this case, the function returns a string. The string has a placeholder (here: `{}`) which is replaced by the content of the `name` argument. The `.format()` part is a \"method\", applied to the string object:\n",
    "\n",
    "  ```python\n",
    "return \"Hello {}\".format(name)\n",
    "```\n",
    "\n",
    "1. **Distinction between module and script** Here, when the if clause is evaluated to True, everything in its body is executed as script:\n",
    "\n",
    "  ```python\n",
    "if __name__ == \"__main__\":\n",
    "```\n",
    "\n",
    "1. **Call `hello` function** The function `hello` is called with the string `\"Tux\"`. In other words, the argument `name` of the function contains the string `\"Tux\"`:\n",
    "\n",
    "   ```python\n",
    "print(hello(\"Tux\"))\n",
    "```"
   ]
  },
  {
   "cell_type": "code",
   "execution_count": null,
   "metadata": {
    "collapsed": true
   },
   "outputs": [],
   "source": []
  }
 ],
 "metadata": {
  "kernelspec": {
   "display_name": "Python 3",
   "language": "python",
   "name": "python3"
  },
  "language_info": {
   "codemirror_mode": {
    "name": "ipython",
    "version": 3
   },
   "file_extension": ".py",
   "mimetype": "text/x-python",
   "name": "python",
   "nbconvert_exporter": "python",
   "pygments_lexer": "ipython3",
   "version": "3.4.1"
  }
 },
 "nbformat": 4,
 "nbformat_minor": 0
}
