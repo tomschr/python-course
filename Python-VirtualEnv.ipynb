{
 "cells": [
  {
   "cell_type": "markdown",
   "metadata": {},
   "source": [
    "# Python Course: Virtual Environment\n",
    "Author: Thomas Schraitle\n",
    "\n",
    "## Concept\n",
    "\n",
    "A \"virtual environment\" is a directory which is \"isolated\" from the rest of the system. It solves the “Project X depends on version 1.x but, Project Y needs 4.x” dilemma, and keeps your global system directory clean and manageable (according to the \"Hitchhiker's Guide).\n",
    "\n",
    "For more information about virtual environments, refer to the Hitchhiker's Guide at http://docs.python-guide.org/en/latest/dev/virtualenvs/.\n",
    "\n",
    "\n",
    "## Things to learn\n",
    "\n",
    "1. How to create a virtual environment in Python.\n",
    "1. How to work with the virtual environment.\n",
    "1. How to install Python package inside the virtual environment.\n",
    "\n",
    "\n",
    "## Steps\n",
    "\n",
    "1. Open a shell.\n",
    "\n",
    "1. Change to your working directory (the directory you usually work with; can be your home or anything else).\n",
    "\n",
    "1. Create a new virtual environment. You can use any name you want, but here we use `.env` to make it \"invisible\":\n",
    "\n",
    "   ```shell\n",
    "$ pyvenv .env\n",
    "```\n",
    "\n",
    "1. Activate the virtual environment. This changes your shell prompt to \"`(.env) ...`\":\n",
    "\n",
    "   ```shell\n",
    "$ source .env/bin/activate\n",
    "```\n",
    "\n",
    "1. Work with your virtual environment (see below).\n",
    "\n",
    "1. Deactivate your virtual environment after you are done:\n",
    "\n",
    "   ```shell\n",
    "$ deactivate\n",
    "```  "
   ]
  },
  {
   "cell_type": "markdown",
   "metadata": {},
   "source": [
    "## Work With Your Virtual Environment\n",
    "\n",
    "To work with your virtual environment use `pip`.\n",
    "\n",
    "1. List the content of your virtual environment (the exact version numbers may be different on your system):\n",
    "  \n",
    "  ```shell\n",
    "$ pip list\n",
    "pip (1.5.6)\n",
    "setuptools (2.1)\n",
    "```\n",
    "\n",
    "1. Update `pip` and `setuptools`. The latest packages are downloaded from PyPI. The exact version numbers depend on the current release of `pip` and `setuptools`:\n",
    "\n",
    "  ```shell\n",
    "$ pip install -U pip setuptools\n",
    "Downloading/unpacking pip from https://pypi.python.org/packages/9c/32/004ce0852e0a127f07f358b715015763273799bd798956fa930814b60f39/pip-8.1.2-py2.py3-none-any.whl#md5=0570520434c5b600d89ec95393b2650b\n",
    "  Downloading pip-8.1.2-py2.py3-none-any.whl (1.2MB): 1.2MB downloaded\n",
    "Downloading/unpacking setuptools from https://pypi.python.org/packages/9f/3e/e4912f33a92257b29c28aa1d7121e8081536d9291d6185a313ecf0d1f8c7/setuptools-24.2.1-py2.py3-none-any.whl#md5=0f82c8556a7946fd34c605e0f9f9651e\n",
    "  Downloading setuptools-24.2.1-py2.py3-none-any.whl (442kB): 442kB downloaded\n",
    "Installing collected packages: pip, setuptools\n",
    "  Found existing installation: pip 1.5.6\n",
    "    Uninstalling pip:\n",
    "      Successfully uninstalled pip\n",
    "  Found existing installation: setuptools 2.1\n",
    "    Uninstalling setuptools:\n",
    "      Successfully uninstalled setuptools\n",
    "Successfully installed pip setuptools\n",
    "Cleaning up...\n",
    "```\n",
    "\n",
    "1. Search Python packages:\n",
    "\n",
    "  ```shell\n",
    "$ pip search lxml\n",
    "[...]\n",
    "lxml (3.6.0)                   - Powerful and Pythonic XML processing library combining libxml2/libxslt with the ElementTree API.\n",
    "```\n",
    "\n",
    "1. Install new Python packages from PyPI:\n",
    "\n",
    "  ```shell\n",
    "$ pip install requests\n",
    "Collecting requests\n",
    "  Using cached requests-2.10.0-py2.py3-none-any.whl\n",
    "Installing collected packages: requests\n",
    "Successfully installed requests-2.10.0\n",
    "```\n",
    "\n",
    "1. Freezing the virtual environment.\n",
    "Freezing means, to output all installed packages including its version number. The output format can be used later in another, newly created virtual environment:\n",
    "\n",
    "  ```shell\n",
    "$ pip freeze\n",
    "requests==2.10.0\n",
    "$ pip freeze > pip-requirement.txt\n",
    "```\n"
   ]
  },
  {
   "cell_type": "markdown",
   "metadata": {},
   "source": [
    "## Questions\n",
    "\n",
    "1. What is a Python virtual environment?\n",
    "1. What are the benefits?\n",
    "1. How do you activate the virtual environment?\n",
    "1. How do you install a Python package?\n",
    "1. How do you remove a package from the virtual environment?\n",
    "1. How can you freeze your virtual environment?"
   ]
  },
  {
   "cell_type": "markdown",
   "metadata": {},
   "source": [
    "## For More Information\n",
    "\n",
    "See http://virtualenvwrapper.readthedocs.io"
   ]
  },
  {
   "cell_type": "code",
   "execution_count": null,
   "metadata": {
    "collapsed": true
   },
   "outputs": [],
   "source": []
  }
 ],
 "metadata": {
  "kernelspec": {
   "display_name": "Python 3",
   "language": "python",
   "name": "python3"
  },
  "language_info": {
   "codemirror_mode": {
    "name": "ipython",
    "version": 3
   },
   "file_extension": ".py",
   "mimetype": "text/x-python",
   "name": "python",
   "nbconvert_exporter": "python",
   "pygments_lexer": "ipython3",
   "version": "3.4.1"
  }
 },
 "nbformat": 4,
 "nbformat_minor": 0
}
